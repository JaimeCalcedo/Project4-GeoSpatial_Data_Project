{
 "cells": [
  {
   "cell_type": "code",
   "execution_count": 37,
   "metadata": {},
   "outputs": [],
   "source": [
    "from pymongo import MongoClient\n",
    "import pandas as pd\n",
    "import folium\n",
    "from folium import Choropleth, Circle, Marker, Icon, Map\n",
    "from folium.plugins import HeatMap, MarkerCluster\n",
    "import pandas as pd"
   ]
  },
  {
   "cell_type": "code",
   "execution_count": 2,
   "metadata": {},
   "outputs": [],
   "source": [
    "conn = MongoClient(\"localhost:27017\")"
   ]
  },
  {
   "cell_type": "code",
   "execution_count": 3,
   "metadata": {},
   "outputs": [],
   "source": [
    "db = conn.get_database(\"ironhack\")"
   ]
  },
  {
   "cell_type": "code",
   "execution_count": 4,
   "metadata": {},
   "outputs": [
    {
     "data": {
      "text/plain": [
       "Database(MongoClient(host=['localhost:27017'], document_class=dict, tz_aware=False, connect=True), 'ironhack')"
      ]
     },
     "execution_count": 4,
     "metadata": {},
     "output_type": "execute_result"
    }
   ],
   "source": [
    "db"
   ]
  },
  {
   "cell_type": "code",
   "execution_count": 5,
   "metadata": {},
   "outputs": [
    {
     "data": {
      "text/plain": [
       "['countries_small', 'companies', 'books', 'restaurants']"
      ]
     },
     "execution_count": 5,
     "metadata": {},
     "output_type": "execute_result"
    }
   ],
   "source": [
    "#Vamos a empezar con la base de datos ironhack, con la collection companies. \n",
    "db.list_collection_names()"
   ]
  },
  {
   "cell_type": "code",
   "execution_count": 6,
   "metadata": {},
   "outputs": [],
   "source": [
    "#Nuestro punto de partida va a ser las localizaciones de las diferentes empresas de la base de datos, el resto de datos en principio nos es irrelevante.\n",
    "#Aunque hay algunos que no lo son, como ahora veremos. \n",
    "collection = db.get_collection(\"companies\")"
   ]
  },
  {
   "cell_type": "code",
   "execution_count": 7,
   "metadata": {},
   "outputs": [
    {
     "data": {
      "text/plain": [
       "dict_keys(['_id', 'name', 'permalink', 'crunchbase_url', 'homepage_url', 'blog_url', 'blog_feed_url', 'twitter_username', 'category_code', 'number_of_employees', 'founded_year', 'founded_month', 'founded_day', 'deadpooled_year', 'tag_list', 'alias_list', 'email_address', 'phone_number', 'description', 'created_at', 'updated_at', 'overview', 'image', 'products', 'relationships', 'competitions', 'providerships', 'total_money_raised', 'funding_rounds', 'investments', 'acquisition', 'acquisitions', 'offices', 'milestones', 'video_embeds', 'screenshots', 'external_links', 'partners'])"
      ]
     },
     "execution_count": 7,
     "metadata": {},
     "output_type": "execute_result"
    }
   ],
   "source": [
    "#Veamos que tiene dentro la database de cada compañia.\n",
    "collection.find_one().keys()"
   ]
  },
  {
   "cell_type": "code",
   "execution_count": 8,
   "metadata": {},
   "outputs": [],
   "source": [
    "#We are going to reduce the database based on 2 conditions:\n",
    "    #Startups -> Founded after 2010\n",
    "    #Successful -> Money raised so far > $1M\n",
    "a = collection.find(\n",
    "    {\"$and\": [\n",
    "        {\"founded_year\": {\"$gt\": 2010}},\n",
    "        {\"total_money_raised\": {\"$regex\": \"M$\"}},\n",
    "        {\"total_money_raised\": {\"$ne\": \"$0\"}},\n",
    "        {\"offices.latitude\": {\"$ne\": None}},\n",
    "        {\"offices.latitude\": {\"$exists\": True}}\n",
    "         ]},\n",
    "        {\"_id\": 0, \"name\": 1, \"category_code\": 1, \"founded_year\": 1, \"offices.latitude\": 1, \"offices.longitude\": 1, \"total_money_raised\": 1})"
   ]
  },
  {
   "cell_type": "code",
   "execution_count": 9,
   "metadata": {},
   "outputs": [
    {
     "data": {
      "text/html": [
       "<div>\n",
       "<style scoped>\n",
       "    .dataframe tbody tr th:only-of-type {\n",
       "        vertical-align: middle;\n",
       "    }\n",
       "\n",
       "    .dataframe tbody tr th {\n",
       "        vertical-align: top;\n",
       "    }\n",
       "\n",
       "    .dataframe thead th {\n",
       "        text-align: right;\n",
       "    }\n",
       "</style>\n",
       "<table border=\"1\" class=\"dataframe\">\n",
       "  <thead>\n",
       "    <tr style=\"text-align: right;\">\n",
       "      <th></th>\n",
       "      <th>name</th>\n",
       "      <th>category_code</th>\n",
       "      <th>founded_year</th>\n",
       "      <th>total_money_raised</th>\n",
       "      <th>offices</th>\n",
       "    </tr>\n",
       "  </thead>\n",
       "  <tbody>\n",
       "    <tr>\n",
       "      <th>0</th>\n",
       "      <td>PeekYou</td>\n",
       "      <td>search</td>\n",
       "      <td>2012</td>\n",
       "      <td>$1.83M</td>\n",
       "      <td>[{'latitude': 40.757929, 'longitude': -73.9855...</td>\n",
       "    </tr>\n",
       "    <tr>\n",
       "      <th>1</th>\n",
       "      <td>Fixya</td>\n",
       "      <td>web</td>\n",
       "      <td>2013</td>\n",
       "      <td>$8M</td>\n",
       "      <td>[{'latitude': 37.566879, 'longitude': -122.323...</td>\n",
       "    </tr>\n",
       "    <tr>\n",
       "      <th>2</th>\n",
       "      <td>Widgetbox</td>\n",
       "      <td>other</td>\n",
       "      <td>2012</td>\n",
       "      <td>$14.5M</td>\n",
       "      <td>[{'latitude': 37.798853, 'longitude': -122.398...</td>\n",
       "    </tr>\n",
       "    <tr>\n",
       "      <th>3</th>\n",
       "      <td>RazorGator</td>\n",
       "      <td>ecommerce</td>\n",
       "      <td>2011</td>\n",
       "      <td>$58.8M</td>\n",
       "      <td>[{'latitude': 34.047312, 'longitude': -118.445...</td>\n",
       "    </tr>\n",
       "    <tr>\n",
       "      <th>4</th>\n",
       "      <td>Social Gaming Network</td>\n",
       "      <td>games_video</td>\n",
       "      <td>2011</td>\n",
       "      <td>$17.1M</td>\n",
       "      <td>[{'latitude': 37.446823, 'longitude': -122.161...</td>\n",
       "    </tr>\n",
       "    <tr>\n",
       "      <th>5</th>\n",
       "      <td>Skydeck</td>\n",
       "      <td>mobile</td>\n",
       "      <td>2012</td>\n",
       "      <td>$4M</td>\n",
       "      <td>[{'latitude': 37.5645375, 'longitude': -122.32...</td>\n",
       "    </tr>\n",
       "    <tr>\n",
       "      <th>6</th>\n",
       "      <td>Moblica</td>\n",
       "      <td>mobile</td>\n",
       "      <td>2011</td>\n",
       "      <td>$6M</td>\n",
       "      <td>[{'latitude': 32.0554, 'longitude': 34.7595}]</td>\n",
       "    </tr>\n",
       "    <tr>\n",
       "      <th>7</th>\n",
       "      <td>travelmob</td>\n",
       "      <td>travel</td>\n",
       "      <td>2011</td>\n",
       "      <td>$1M</td>\n",
       "      <td>[{'latitude': 21.303049, 'longitude': -157.789...</td>\n",
       "    </tr>\n",
       "    <tr>\n",
       "      <th>8</th>\n",
       "      <td>travelmob</td>\n",
       "      <td>travel</td>\n",
       "      <td>2011</td>\n",
       "      <td>$1M</td>\n",
       "      <td>[{'latitude': 21.303049, 'longitude': -157.789...</td>\n",
       "    </tr>\n",
       "    <tr>\n",
       "      <th>9</th>\n",
       "      <td>VisualOn</td>\n",
       "      <td>software</td>\n",
       "      <td>2011</td>\n",
       "      <td>$3.1M</td>\n",
       "      <td>[{'latitude': 37.270518, 'longitude': -121.955...</td>\n",
       "    </tr>\n",
       "    <tr>\n",
       "      <th>10</th>\n",
       "      <td>VistaGen Therapeutics</td>\n",
       "      <td>biotech</td>\n",
       "      <td>2013</td>\n",
       "      <td>$41.3M</td>\n",
       "      <td>[{'latitude': 37.6656476, 'longitude': -122.38...</td>\n",
       "    </tr>\n",
       "  </tbody>\n",
       "</table>\n",
       "</div>"
      ],
      "text/plain": [
       "                     name category_code  founded_year total_money_raised  \\\n",
       "0                 PeekYou        search          2012             $1.83M   \n",
       "1                   Fixya           web          2013                $8M   \n",
       "2               Widgetbox         other          2012             $14.5M   \n",
       "3              RazorGator     ecommerce          2011             $58.8M   \n",
       "4   Social Gaming Network   games_video          2011             $17.1M   \n",
       "5                 Skydeck        mobile          2012                $4M   \n",
       "6                 Moblica        mobile          2011                $6M   \n",
       "7               travelmob        travel          2011                $1M   \n",
       "8               travelmob        travel          2011                $1M   \n",
       "9                VisualOn      software          2011              $3.1M   \n",
       "10  VistaGen Therapeutics       biotech          2013             $41.3M   \n",
       "\n",
       "                                              offices  \n",
       "0   [{'latitude': 40.757929, 'longitude': -73.9855...  \n",
       "1   [{'latitude': 37.566879, 'longitude': -122.323...  \n",
       "2   [{'latitude': 37.798853, 'longitude': -122.398...  \n",
       "3   [{'latitude': 34.047312, 'longitude': -118.445...  \n",
       "4   [{'latitude': 37.446823, 'longitude': -122.161...  \n",
       "5   [{'latitude': 37.5645375, 'longitude': -122.32...  \n",
       "6       [{'latitude': 32.0554, 'longitude': 34.7595}]  \n",
       "7   [{'latitude': 21.303049, 'longitude': -157.789...  \n",
       "8   [{'latitude': 21.303049, 'longitude': -157.789...  \n",
       "9   [{'latitude': 37.270518, 'longitude': -121.955...  \n",
       "10  [{'latitude': 37.6656476, 'longitude': -122.38...  "
      ]
     },
     "execution_count": 9,
     "metadata": {},
     "output_type": "execute_result"
    }
   ],
   "source": [
    "#Viendo el dataframe vemos como se ha reducido la lista a unas pocas empresas que cumplen las características\n",
    "dfa = pd.DataFrame(a)\n",
    "dfa"
   ]
  },
  {
   "cell_type": "code",
   "execution_count": 10,
   "metadata": {},
   "outputs": [],
   "source": [
    "#Ahora necesitamos extraer el valor de la latitud y la longuitud de dentro de esa lista de diccionarios que tenemos en la columna offices. \n",
    "def get_values_as_list(dict_list, keys):\n",
    "    list_ = [list(d[k] for k in keys) for d in dict_list]\n",
    "    return list_[0]"
   ]
  },
  {
   "cell_type": "code",
   "execution_count": 11,
   "metadata": {},
   "outputs": [
    {
     "data": {
      "text/plain": [
       "[40.757929, -73.985506]"
      ]
     },
     "execution_count": 11,
     "metadata": {},
     "output_type": "execute_result"
    }
   ],
   "source": [
    "#Ahora tenemos que extraer la latitude y longitud de las diferentes oficinas \n",
    "get_values_as_list(dfa.offices[0], (\"latitude\", \"longitude\"))"
   ]
  },
  {
   "cell_type": "code",
   "execution_count": 12,
   "metadata": {},
   "outputs": [],
   "source": [
    "def get_coordinates(Series, new_list):\n",
    "    for i in Series.index:\n",
    "        a = get_values_as_list(Series[i], (\"latitude\", \"longitude\"))\n",
    "        new_list.append(a)\n",
    "    return new_list\n",
    "        "
   ]
  },
  {
   "cell_type": "code",
   "execution_count": 14,
   "metadata": {},
   "outputs": [],
   "source": [
    "coordinates = []\n",
    "dfa[\"coordinates\"] = get_coordinates(dfa[\"offices\"], coordinates)"
   ]
  },
  {
   "cell_type": "code",
   "execution_count": 24,
   "metadata": {},
   "outputs": [],
   "source": [
    "latitudes = []\n",
    "longitudes = []\n",
    "for i in dfa[\"coordinates\"]:\n",
    "    latitudes.append(i[0])\n",
    "    longitudes.append(i[1])"
   ]
  },
  {
   "cell_type": "code",
   "execution_count": 26,
   "metadata": {},
   "outputs": [],
   "source": [
    "dfa[\"latitudes\"] = latitudes\n",
    "dfa[\"longitudes\"] = longitudes"
   ]
  },
  {
   "cell_type": "code",
   "execution_count": 54,
   "metadata": {},
   "outputs": [],
   "source": [
    "dfa.to_csv(\"Data/successful_startups_dataset.csv\")"
   ]
  },
  {
   "cell_type": "code",
   "execution_count": 27,
   "metadata": {},
   "outputs": [
    {
     "data": {
      "text/html": [
       "<div>\n",
       "<style scoped>\n",
       "    .dataframe tbody tr th:only-of-type {\n",
       "        vertical-align: middle;\n",
       "    }\n",
       "\n",
       "    .dataframe tbody tr th {\n",
       "        vertical-align: top;\n",
       "    }\n",
       "\n",
       "    .dataframe thead th {\n",
       "        text-align: right;\n",
       "    }\n",
       "</style>\n",
       "<table border=\"1\" class=\"dataframe\">\n",
       "  <thead>\n",
       "    <tr style=\"text-align: right;\">\n",
       "      <th></th>\n",
       "      <th>name</th>\n",
       "      <th>category_code</th>\n",
       "      <th>founded_year</th>\n",
       "      <th>total_money_raised</th>\n",
       "      <th>offices</th>\n",
       "      <th>coordinates</th>\n",
       "      <th>latitudes</th>\n",
       "      <th>longitudes</th>\n",
       "    </tr>\n",
       "  </thead>\n",
       "  <tbody>\n",
       "    <tr>\n",
       "      <th>0</th>\n",
       "      <td>PeekYou</td>\n",
       "      <td>search</td>\n",
       "      <td>2012</td>\n",
       "      <td>$1.83M</td>\n",
       "      <td>[{'latitude': 40.757929, 'longitude': -73.9855...</td>\n",
       "      <td>[40.757929, -73.985506]</td>\n",
       "      <td>40.757929</td>\n",
       "      <td>-73.985506</td>\n",
       "    </tr>\n",
       "    <tr>\n",
       "      <th>1</th>\n",
       "      <td>Fixya</td>\n",
       "      <td>web</td>\n",
       "      <td>2013</td>\n",
       "      <td>$8M</td>\n",
       "      <td>[{'latitude': 37.566879, 'longitude': -122.323...</td>\n",
       "      <td>[37.566879, -122.323895]</td>\n",
       "      <td>37.566879</td>\n",
       "      <td>-122.323895</td>\n",
       "    </tr>\n",
       "    <tr>\n",
       "      <th>2</th>\n",
       "      <td>Widgetbox</td>\n",
       "      <td>other</td>\n",
       "      <td>2012</td>\n",
       "      <td>$14.5M</td>\n",
       "      <td>[{'latitude': 37.798853, 'longitude': -122.398...</td>\n",
       "      <td>[37.798853, -122.398599]</td>\n",
       "      <td>37.798853</td>\n",
       "      <td>-122.398599</td>\n",
       "    </tr>\n",
       "    <tr>\n",
       "      <th>3</th>\n",
       "      <td>RazorGator</td>\n",
       "      <td>ecommerce</td>\n",
       "      <td>2011</td>\n",
       "      <td>$58.8M</td>\n",
       "      <td>[{'latitude': 34.047312, 'longitude': -118.445...</td>\n",
       "      <td>[34.047312, -118.445243]</td>\n",
       "      <td>34.047312</td>\n",
       "      <td>-118.445243</td>\n",
       "    </tr>\n",
       "    <tr>\n",
       "      <th>4</th>\n",
       "      <td>Social Gaming Network</td>\n",
       "      <td>games_video</td>\n",
       "      <td>2011</td>\n",
       "      <td>$17.1M</td>\n",
       "      <td>[{'latitude': 37.446823, 'longitude': -122.161...</td>\n",
       "      <td>[37.446823, -122.161523]</td>\n",
       "      <td>37.446823</td>\n",
       "      <td>-122.161523</td>\n",
       "    </tr>\n",
       "    <tr>\n",
       "      <th>5</th>\n",
       "      <td>Skydeck</td>\n",
       "      <td>mobile</td>\n",
       "      <td>2012</td>\n",
       "      <td>$4M</td>\n",
       "      <td>[{'latitude': 37.5645375, 'longitude': -122.32...</td>\n",
       "      <td>[37.5645375, -122.3254705]</td>\n",
       "      <td>37.564538</td>\n",
       "      <td>-122.325470</td>\n",
       "    </tr>\n",
       "    <tr>\n",
       "      <th>6</th>\n",
       "      <td>Moblica</td>\n",
       "      <td>mobile</td>\n",
       "      <td>2011</td>\n",
       "      <td>$6M</td>\n",
       "      <td>[{'latitude': 32.0554, 'longitude': 34.7595}]</td>\n",
       "      <td>[32.0554, 34.7595]</td>\n",
       "      <td>32.055400</td>\n",
       "      <td>34.759500</td>\n",
       "    </tr>\n",
       "    <tr>\n",
       "      <th>7</th>\n",
       "      <td>travelmob</td>\n",
       "      <td>travel</td>\n",
       "      <td>2011</td>\n",
       "      <td>$1M</td>\n",
       "      <td>[{'latitude': 21.303049, 'longitude': -157.789...</td>\n",
       "      <td>[21.303049, -157.78907]</td>\n",
       "      <td>21.303049</td>\n",
       "      <td>-157.789070</td>\n",
       "    </tr>\n",
       "    <tr>\n",
       "      <th>8</th>\n",
       "      <td>travelmob</td>\n",
       "      <td>travel</td>\n",
       "      <td>2011</td>\n",
       "      <td>$1M</td>\n",
       "      <td>[{'latitude': 21.303049, 'longitude': -157.789...</td>\n",
       "      <td>[21.303049, -157.78907]</td>\n",
       "      <td>21.303049</td>\n",
       "      <td>-157.789070</td>\n",
       "    </tr>\n",
       "    <tr>\n",
       "      <th>9</th>\n",
       "      <td>VisualOn</td>\n",
       "      <td>software</td>\n",
       "      <td>2011</td>\n",
       "      <td>$3.1M</td>\n",
       "      <td>[{'latitude': 37.270518, 'longitude': -121.955...</td>\n",
       "      <td>[37.270518, -121.955879]</td>\n",
       "      <td>37.270518</td>\n",
       "      <td>-121.955879</td>\n",
       "    </tr>\n",
       "    <tr>\n",
       "      <th>10</th>\n",
       "      <td>VistaGen Therapeutics</td>\n",
       "      <td>biotech</td>\n",
       "      <td>2013</td>\n",
       "      <td>$41.3M</td>\n",
       "      <td>[{'latitude': 37.6656476, 'longitude': -122.38...</td>\n",
       "      <td>[37.6656476, -122.3843489]</td>\n",
       "      <td>37.665648</td>\n",
       "      <td>-122.384349</td>\n",
       "    </tr>\n",
       "  </tbody>\n",
       "</table>\n",
       "</div>"
      ],
      "text/plain": [
       "                     name category_code  founded_year total_money_raised  \\\n",
       "0                 PeekYou        search          2012             $1.83M   \n",
       "1                   Fixya           web          2013                $8M   \n",
       "2               Widgetbox         other          2012             $14.5M   \n",
       "3              RazorGator     ecommerce          2011             $58.8M   \n",
       "4   Social Gaming Network   games_video          2011             $17.1M   \n",
       "5                 Skydeck        mobile          2012                $4M   \n",
       "6                 Moblica        mobile          2011                $6M   \n",
       "7               travelmob        travel          2011                $1M   \n",
       "8               travelmob        travel          2011                $1M   \n",
       "9                VisualOn      software          2011              $3.1M   \n",
       "10  VistaGen Therapeutics       biotech          2013             $41.3M   \n",
       "\n",
       "                                              offices  \\\n",
       "0   [{'latitude': 40.757929, 'longitude': -73.9855...   \n",
       "1   [{'latitude': 37.566879, 'longitude': -122.323...   \n",
       "2   [{'latitude': 37.798853, 'longitude': -122.398...   \n",
       "3   [{'latitude': 34.047312, 'longitude': -118.445...   \n",
       "4   [{'latitude': 37.446823, 'longitude': -122.161...   \n",
       "5   [{'latitude': 37.5645375, 'longitude': -122.32...   \n",
       "6       [{'latitude': 32.0554, 'longitude': 34.7595}]   \n",
       "7   [{'latitude': 21.303049, 'longitude': -157.789...   \n",
       "8   [{'latitude': 21.303049, 'longitude': -157.789...   \n",
       "9   [{'latitude': 37.270518, 'longitude': -121.955...   \n",
       "10  [{'latitude': 37.6656476, 'longitude': -122.38...   \n",
       "\n",
       "                   coordinates  latitudes  longitudes  \n",
       "0      [40.757929, -73.985506]  40.757929  -73.985506  \n",
       "1     [37.566879, -122.323895]  37.566879 -122.323895  \n",
       "2     [37.798853, -122.398599]  37.798853 -122.398599  \n",
       "3     [34.047312, -118.445243]  34.047312 -118.445243  \n",
       "4     [37.446823, -122.161523]  37.446823 -122.161523  \n",
       "5   [37.5645375, -122.3254705]  37.564538 -122.325470  \n",
       "6           [32.0554, 34.7595]  32.055400   34.759500  \n",
       "7      [21.303049, -157.78907]  21.303049 -157.789070  \n",
       "8      [21.303049, -157.78907]  21.303049 -157.789070  \n",
       "9     [37.270518, -121.955879]  37.270518 -121.955879  \n",
       "10  [37.6656476, -122.3843489]  37.665648 -122.384349  "
      ]
     },
     "execution_count": 27,
     "metadata": {},
     "output_type": "execute_result"
    }
   ],
   "source": [
    "dfa"
   ]
  },
  {
   "cell_type": "code",
   "execution_count": 46,
   "metadata": {},
   "outputs": [
    {
     "data": {
      "text/html": [
       "<div style=\"width:100%;\"><div style=\"position:relative;width:100%;height:0;padding-bottom:60%;\"><span style=\"color:#565656\">Make this Notebook Trusted to load map: File -> Trust Notebook</span><iframe src=\"about:blank\" style=\"position:absolute;width:100%;height:100%;left:0;top:0;border:none !important;\" data-html=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 onload=\"this.contentDocument.open();this.contentDocument.write(atob(this.getAttribute('data-html')));this.contentDocument.close();\" allowfullscreen webkitallowfullscreen mozallowfullscreen></iframe></div></div>"
      ],
      "text/plain": [
       "<folium.folium.Map at 0x1202123d0>"
      ]
     },
     "execution_count": 46,
     "metadata": {},
     "output_type": "execute_result"
    }
   ],
   "source": [
    "map_startups = Map(location=[21.303049, -157.789070], zoom_start=5)\n",
    "map_startups"
   ]
  },
  {
   "cell_type": "code",
   "execution_count": 51,
   "metadata": {},
   "outputs": [],
   "source": [
    "for i,row in dfa.iterrows():\n",
    "    name = {\n",
    "        \"location\" : [row[\"latitudes\"], row[\"longitudes\"]],\n",
    "        \"tooltip\" : row[\"name\"]\n",
    "    }\n",
    "    Marker(**name, icon=Icon(color = \"green\", prefix = \"fa\", icon=\"briefcase\", icon_color = \"black\")).add_to(map_startups)"
   ]
  },
  {
   "cell_type": "code",
   "execution_count": 52,
   "metadata": {},
   "outputs": [
    {
     "data": {
      "text/html": [
       "<div style=\"width:100%;\"><div style=\"position:relative;width:100%;height:0;padding-bottom:60%;\"><span style=\"color:#565656\">Make this Notebook Trusted to load map: File -> Trust Notebook</span><iframe src=\"about:blank\" style=\"position:absolute;width:100%;height:100%;left:0;top:0;border:none !important;\" data-html=PCFET0NUWVBFIGh0bWw+CjxoZWFkPiAgICAKICAgIDxtZXRhIGh0dHAtZXF1aXY9ImNvbnRlbnQtdHlwZSIgY29udGVudD0idGV4dC9odG1sOyBjaGFyc2V0PVVURi04IiAvPgogICAgCiAgICAgICAgPHNjcmlwdD4KICAgICAgICAgICAgTF9OT19UT1VDSCA9IGZhbHNlOwogICAgICAgICAgICBMX0RJU0FCTEVfM0QgPSBmYWxzZTsKICAgICAgICA8L3NjcmlwdD4KICAgIAogICAgPHNjcmlwdCBzcmM9Imh0dHBzOi8vY2RuLmpzZGVsaXZyLm5ldC9ucG0vbGVhZmxldEAxLjYuMC9kaXN0L2xlYWZsZXQuanMiPjwvc2NyaXB0PgogICAgPHNjcmlwdCBzcmM9Imh0dHBzOi8vY29kZS5qcXVlcnkuY29tL2pxdWVyeS0xLjEyLjQubWluLmpzIj48L3NjcmlwdD4KICAgIDxzY3JpcHQgc3JjPSJodHRwczovL21heGNkbi5ib290c3RyYXBjZG4uY29tL2Jvb3RzdHJhcC8zLjIuMC9qcy9ib290c3RyYXAubWluLmpzIj48L3NjcmlwdD4KICAgIDxzY3JpcHQgc3JjPSJodHRwczovL2NkbmpzLmNsb3VkZmxhcmUuY29tL2FqYXgvbGlicy9MZWFmbGV0LmF3ZXNvbWUtbWFya2Vycy8yLjAuMi9sZWFmbGV0LmF3ZXNvbWUtbWFya2Vycy5qcyI+PC9zY3JpcHQ+CiAgICA8bGluayByZWw9InN0eWxlc2hlZXQiIGhyZWY9Imh0dHBzOi8vY2RuLmpzZGVsaXZyLm5ldC9ucG0vbGVhZmxldEAxLjYuMC9kaXN0L2xlYWZsZXQuY3NzIi8+CiAgICA8bGluayByZWw9InN0eWxlc2hlZXQiIGhyZWY9Imh0dHBzOi8vbWF4Y2RuLmJvb3RzdHJhcGNkbi5jb20vYm9vdHN0cmFwLzMuMi4wL2Nzcy9ib290c3RyYXAubWluLmNzcyIvPgogICAgPGxpbmsgcmVsPSJzdHlsZXNoZWV0IiBocmVmPSJodHRwczovL21heGNkbi5ib290c3RyYXBjZG4uY29tL2Jvb3RzdHJhcC8zLjIuMC9jc3MvYm9vdHN0cmFwLXRoZW1lLm1pbi5jc3MiLz4KICAgIDxsaW5rIHJlbD0ic3R5bGVzaGVldCIgaHJlZj0iaHR0cHM6Ly9tYXhjZG4uYm9vdHN0cmFwY2RuLmNvbS9mb250LWF3ZXNvbWUvNC42LjMvY3NzL2ZvbnQtYXdlc29tZS5taW4uY3NzIi8+CiAgICA8bGluayByZWw9InN0eWxlc2hlZXQiIGhyZWY9Imh0dHBzOi8vY2RuanMuY2xvdWRmbGFyZS5jb20vYWpheC9saWJzL0xlYWZsZXQuYXdlc29tZS1tYXJrZXJzLzIuMC4yL2xlYWZsZXQuYXdlc29tZS1tYXJrZXJzLmNzcyIvPgogICAgPGxpbmsgcmVsPSJzdHlsZXNoZWV0IiBocmVmPSJodHRwczovL3Jhd2Nkbi5naXRoYWNrLmNvbS9weXRob24tdmlzdWFsaXphdGlvbi9mb2xpdW0vbWFzdGVyL2ZvbGl1bS90ZW1wbGF0ZXMvbGVhZmxldC5hd2Vzb21lLnJvdGF0ZS5jc3MiLz4KICAgIDxzdHlsZT5odG1sLCBib2R5IHt3aWR0aDogMTAwJTtoZWlnaHQ6IDEwMCU7bWFyZ2luOiAwO3BhZGRpbmc6IDA7fTwvc3R5bGU+CiAgICA8c3R5bGU+I21hcCB7cG9zaXRpb246YWJzb2x1dGU7dG9wOjA7Ym90dG9tOjA7cmlnaHQ6MDtsZWZ0OjA7fTwvc3R5bGU+CiAgICAKICAgICAgICAgICAgPG1ldGEgbmFtZT0idmlld3BvcnQiIGNvbnRlbnQ9IndpZHRoPWRldmljZS13aWR0aCwKICAgICAgICAgICAgICAgIGluaXRpYWwtc2NhbGU9MS4wLCBtYXhpbXVtLXNjYWxlPTEuMCwgdXNlci1zY2FsYWJsZT1ubyIgLz4KICAgICAgICAgICAgPHN0eWxlPgogICAgICAgICAgICAgICAgI21hcF9hMmQyNzYyNGFmMDg0YjkzOGNhMjQ5MDA2NjAyMDVjZCB7CiAgICAgICAgICAgICAgICAgICAgcG9zaXRpb246IHJlbGF0aXZlOwogICAgICAgICAgICAgICAgICAgIHdpZHRoOiAxMDAuMCU7CiAgICAgICAgICAgICAgICAgICAgaGVpZ2h0OiAxMDAuMCU7CiAgICAgICAgICAgICAgICAgICAgbGVmdDogMC4wJTsKICAgICAgICAgICAgICAgICAgICB0b3A6IDAuMCU7CiAgICAgICAgICAgICAgICB9CiAgICAgICAgICAgIDwvc3R5bGU+CiAgICAgICAgCjwvaGVhZD4KPGJvZHk+ICAgIAogICAgCiAgICAgICAgICAgIDxkaXYgY2xhc3M9ImZvbGl1bS1tYXAiIGlkPSJtYXBfYTJkMjc2MjRhZjA4NGI5MzhjYTI0OTAwNjYwMjA1Y2QiID48L2Rpdj4KICAgICAgICAKPC9ib2R5Pgo8c2NyaXB0PiAgICAKICAgIAogICAgICAgICAgICB2YXIgbWFwX2EyZDI3NjI0YWYwODRiOTM4Y2EyNDkwMDY2MDIwNWNkID0gTC5tYXAoCiAgICAgICAgICAgICAgICAibWFwX2EyZDI3NjI0YWYwODRiOTM4Y2EyNDkwMDY2MDIwNWNkIiwKICAgICAgICAgICAgICAgIHsKICAgICAgICAgICAgICAgICAgICBjZW50ZXI6IFsyMS4zMDMwNDksIC0xNTcuNzg5MDddLAogICAgICAgICAgICAgICAgICAgIGNyczogTC5DUlMuRVBTRzM4NTcsCiAgICAgICAgICAgICAgICAgICAgem9vbTogNSwKICAgICAgICAgICAgICAgICAgICB6b29tQ29udHJvbDogdHJ1ZSwKICAgICAgICAgICAgICAgICAgICBwcmVmZXJDYW52YXM6IGZhbHNlLAogICAgICAgICAgICAgICAgfQogICAgICAgICAgICApOwoKICAgICAgICAgICAgCgogICAgICAgIAogICAgCiAgICAgICAgICAgIHZhciB0aWxlX2xheWVyXzgyNGQ4YTVkMTlhYjQyZGJiMWJhNGMzNjlmOTkyZjNlID0gTC50aWxlTGF5ZXIoCiAgICAgICAgICAgICAgICAiaHR0cHM6Ly97c30udGlsZS5vcGVuc3RyZWV0bWFwLm9yZy97en0ve3h9L3t5fS5wbmciLAogICAgICAgICAgICAgICAgeyJhdHRyaWJ1dGlvbiI6ICJEYXRhIGJ5IFx1MDAyNmNvcHk7IFx1MDAzY2EgaHJlZj1cImh0dHA6Ly9vcGVuc3RyZWV0bWFwLm9yZ1wiXHUwMDNlT3BlblN0cmVldE1hcFx1MDAzYy9hXHUwMDNlLCB1bmRlciBcdTAwM2NhIGhyZWY9XCJodHRwOi8vd3d3Lm9wZW5zdHJlZXRtYXAub3JnL2NvcHlyaWdodFwiXHUwMDNlT0RiTFx1MDAzYy9hXHUwMDNlLiIsICJkZXRlY3RSZXRpbmEiOiBmYWxzZSwgIm1heE5hdGl2ZVpvb20iOiAxOCwgIm1heFpvb20iOiAxOCwgIm1pblpvb20iOiAwLCAibm9XcmFwIjogZmFsc2UsICJvcGFjaXR5IjogMSwgInN1YmRvbWFpbnMiOiAiYWJjIiwgInRtcyI6IGZhbHNlfQogICAgICAgICAgICApLmFkZFRvKG1hcF9hMmQyNzYyNGFmMDg0YjkzOGNhMjQ5MDA2NjAyMDVjZCk7CiAgICAgICAgCiAgICAKICAgICAgICAgICAgdmFyIG1hcmtlcl9mZWQ2ZDdiNmQ3MGI0YjkwYTcwNjUzZTI0OGM3NmUxYyA9IEwubWFya2VyKAogICAgICAgICAgICAgICAgWzQwLjc1NzkyOSwgLTczLjk4NTUwNl0sCiAgICAgICAgICAgICAgICB7fQogICAgICAgICAgICApLmFkZFRvKG1hcF9hMmQyNzYyNGFmMDg0YjkzOGNhMjQ5MDA2NjAyMDVjZCk7CiAgICAgICAgCiAgICAKICAgICAgICAgICAgdmFyIGljb25fNzVlN2FjNzI0ZjQ1NDcyMzg5MzQ0ODgwMTkzOGZmY2IgPSBMLkF3ZXNvbWVNYXJrZXJzLmljb24oCiAgICAgICAgICAgICAgICB7ImV4dHJhQ2xhc3NlcyI6ICJmYS1yb3RhdGUtMCIsICJpY29uIjogImJyaWVmY2FzZSIsICJpY29uQ29sb3IiOiAiYmxhY2siLCAibWFya2VyQ29sb3IiOiAiZ3JlZW4iLCAicHJlZml4IjogImZhIn0KICAgICAgICAgICAgKTsKICAgICAgICAgICAgbWFya2VyX2ZlZDZkN2I2ZDcwYjRiOTBhNzA2NTNlMjQ4Yzc2ZTFjLnNldEljb24oaWNvbl83NWU3YWM3MjRmNDU0NzIzODkzNDQ4ODAxOTM4ZmZjYik7CiAgICAgICAgCiAgICAKICAgICAgICAgICAgbWFya2VyX2ZlZDZkN2I2ZDcwYjRiOTBhNzA2NTNlMjQ4Yzc2ZTFjLmJpbmRUb29sdGlwKAogICAgICAgICAgICAgICAgYDxkaXY+CiAgICAgICAgICAgICAgICAgICAgIFBlZWtZb3UKICAgICAgICAgICAgICAgICA8L2Rpdj5gLAogICAgICAgICAgICAgICAgeyJzdGlja3kiOiB0cnVlfQogICAgICAgICAgICApOwogICAgICAgIAogICAgCiAgICAgICAgICAgIHZhciBtYXJrZXJfNDc1NDI5ZWQ0NjJhNDU4NTk0NWE3MTYzNmJiMmQzYWIgPSBMLm1hcmtlcigKICAgICAgICAgICAgICAgIFszNy41NjY4NzksIC0xMjIuMzIzODk1XSwKICAgICAgICAgICAgICAgIHt9CiAgICAgICAgICAgICkuYWRkVG8obWFwX2EyZDI3NjI0YWYwODRiOTM4Y2EyNDkwMDY2MDIwNWNkKTsKICAgICAgICAKICAgIAogICAgICAgICAgICB2YXIgaWNvbl9jM2ViZTBkODc1NGU0MWYzOTJhOWY3YmE0ZWUxNTBlYSA9IEwuQXdlc29tZU1hcmtlcnMuaWNvbigKICAgICAgICAgICAgICAgIHsiZXh0cmFDbGFzc2VzIjogImZhLXJvdGF0ZS0wIiwgImljb24iOiAiYnJpZWZjYXNlIiwgImljb25Db2xvciI6ICJibGFjayIsICJtYXJrZXJDb2xvciI6ICJncmVlbiIsICJwcmVmaXgiOiAiZmEifQogICAgICAgICAgICApOwogICAgICAgICAgICBtYXJrZXJfNDc1NDI5ZWQ0NjJhNDU4NTk0NWE3MTYzNmJiMmQzYWIuc2V0SWNvbihpY29uX2MzZWJlMGQ4NzU0ZTQxZjM5MmE5ZjdiYTRlZTE1MGVhKTsKICAgICAgICAKICAgIAogICAgICAgICAgICBtYXJrZXJfNDc1NDI5ZWQ0NjJhNDU4NTk0NWE3MTYzNmJiMmQzYWIuYmluZFRvb2x0aXAoCiAgICAgICAgICAgICAgICBgPGRpdj4KICAgICAgICAgICAgICAgICAgICAgRml4eWEKICAgICAgICAgICAgICAgICA8L2Rpdj5gLAogICAgICAgICAgICAgICAgeyJzdGlja3kiOiB0cnVlfQogICAgICAgICAgICApOwogICAgICAgIAogICAgCiAgICAgICAgICAgIHZhciBtYXJrZXJfODk5NDVmM2I1Zjg3NDU4OWI1NjE1YjczYmNkMmUyYjcgPSBMLm1hcmtlcigKICAgICAgICAgICAgICAgIFszNy43OTg4NTMsIC0xMjIuMzk4NTk5XSwKICAgICAgICAgICAgICAgIHt9CiAgICAgICAgICAgICkuYWRkVG8obWFwX2EyZDI3NjI0YWYwODRiOTM4Y2EyNDkwMDY2MDIwNWNkKTsKICAgICAgICAKICAgIAogICAgICAgICAgICB2YXIgaWNvbl80Njc4ZTAyOThjMWI0MDUzODVlZmU1NDM1ZGNiYjY1MyA9IEwuQXdlc29tZU1hcmtlcnMuaWNvbigKICAgICAgICAgICAgICAgIHsiZXh0cmFDbGFzc2VzIjogImZhLXJvdGF0ZS0wIiwgImljb24iOiAiYnJpZWZjYXNlIiwgImljb25Db2xvciI6ICJibGFjayIsICJtYXJrZXJDb2xvciI6ICJncmVlbiIsICJwcmVmaXgiOiAiZmEifQogICAgICAgICAgICApOwogICAgICAgICAgICBtYXJrZXJfODk5NDVmM2I1Zjg3NDU4OWI1NjE1YjczYmNkMmUyYjcuc2V0SWNvbihpY29uXzQ2NzhlMDI5OGMxYjQwNTM4NWVmZTU0MzVkY2JiNjUzKTsKICAgICAgICAKICAgIAogICAgICAgICAgICBtYXJrZXJfODk5NDVmM2I1Zjg3NDU4OWI1NjE1YjczYmNkMmUyYjcuYmluZFRvb2x0aXAoCiAgICAgICAgICAgICAgICBgPGRpdj4KICAgICAgICAgICAgICAgICAgICAgV2lkZ2V0Ym94CiAgICAgICAgICAgICAgICAgPC9kaXY+YCwKICAgICAgICAgICAgICAgIHsic3RpY2t5IjogdHJ1ZX0KICAgICAgICAgICAgKTsKICAgICAgICAKICAgIAogICAgICAgICAgICB2YXIgbWFya2VyX2U2NjU3OTNmMjc0NTRmNWQ5MmRkMzNmZGRmZmNiOWYwID0gTC5tYXJrZXIoCiAgICAgICAgICAgICAgICBbMzQuMDQ3MzEyLCAtMTE4LjQ0NTI0M10sCiAgICAgICAgICAgICAgICB7fQogICAgICAgICAgICApLmFkZFRvKG1hcF9hMmQyNzYyNGFmMDg0YjkzOGNhMjQ5MDA2NjAyMDVjZCk7CiAgICAgICAgCiAgICAKICAgICAgICAgICAgdmFyIGljb25fY2MzNTgwMjhjYzY1NDcwYWE1ZDQ2MWI0NDVmMjIzMDAgPSBMLkF3ZXNvbWVNYXJrZXJzLmljb24oCiAgICAgICAgICAgICAgICB7ImV4dHJhQ2xhc3NlcyI6ICJmYS1yb3RhdGUtMCIsICJpY29uIjogImJyaWVmY2FzZSIsICJpY29uQ29sb3IiOiAiYmxhY2siLCAibWFya2VyQ29sb3IiOiAiZ3JlZW4iLCAicHJlZml4IjogImZhIn0KICAgICAgICAgICAgKTsKICAgICAgICAgICAgbWFya2VyX2U2NjU3OTNmMjc0NTRmNWQ5MmRkMzNmZGRmZmNiOWYwLnNldEljb24oaWNvbl9jYzM1ODAyOGNjNjU0NzBhYTVkNDYxYjQ0NWYyMjMwMCk7CiAgICAgICAgCiAgICAKICAgICAgICAgICAgbWFya2VyX2U2NjU3OTNmMjc0NTRmNWQ5MmRkMzNmZGRmZmNiOWYwLmJpbmRUb29sdGlwKAogICAgICAgICAgICAgICAgYDxkaXY+CiAgICAgICAgICAgICAgICAgICAgIFJhem9yR2F0b3IKICAgICAgICAgICAgICAgICA8L2Rpdj5gLAogICAgICAgICAgICAgICAgeyJzdGlja3kiOiB0cnVlfQogICAgICAgICAgICApOwogICAgICAgIAogICAgCiAgICAgICAgICAgIHZhciBtYXJrZXJfYTg3ODgxN2RkNjg5NDZjYTlmZWM4NDBhNmUyOGY3MDYgPSBMLm1hcmtlcigKICAgICAgICAgICAgICAgIFszNy40NDY4MjMsIC0xMjIuMTYxNTIzXSwKICAgICAgICAgICAgICAgIHt9CiAgICAgICAgICAgICkuYWRkVG8obWFwX2EyZDI3NjI0YWYwODRiOTM4Y2EyNDkwMDY2MDIwNWNkKTsKICAgICAgICAKICAgIAogICAgICAgICAgICB2YXIgaWNvbl8yYTY4NWNiMDQzZmM0Yjk0YTBjNzZmMGRiMWUwYzM1MCA9IEwuQXdlc29tZU1hcmtlcnMuaWNvbigKICAgICAgICAgICAgICAgIHsiZXh0cmFDbGFzc2VzIjogImZhLXJvdGF0ZS0wIiwgImljb24iOiAiYnJpZWZjYXNlIiwgImljb25Db2xvciI6ICJibGFjayIsICJtYXJrZXJDb2xvciI6ICJncmVlbiIsICJwcmVmaXgiOiAiZmEifQogICAgICAgICAgICApOwogICAgICAgICAgICBtYXJrZXJfYTg3ODgxN2RkNjg5NDZjYTlmZWM4NDBhNmUyOGY3MDYuc2V0SWNvbihpY29uXzJhNjg1Y2IwNDNmYzRiOTRhMGM3NmYwZGIxZTBjMzUwKTsKICAgICAgICAKICAgIAogICAgICAgICAgICBtYXJrZXJfYTg3ODgxN2RkNjg5NDZjYTlmZWM4NDBhNmUyOGY3MDYuYmluZFRvb2x0aXAoCiAgICAgICAgICAgICAgICBgPGRpdj4KICAgICAgICAgICAgICAgICAgICAgU29jaWFsIEdhbWluZyBOZXR3b3JrCiAgICAgICAgICAgICAgICAgPC9kaXY+YCwKICAgICAgICAgICAgICAgIHsic3RpY2t5IjogdHJ1ZX0KICAgICAgICAgICAgKTsKICAgICAgICAKICAgIAogICAgICAgICAgICB2YXIgbWFya2VyXzk2ZDlmMGM2MzQ1NzRkNDFhOTM2OGFhZWRlZmFiOWVkID0gTC5tYXJrZXIoCiAgICAgICAgICAgICAgICBbMzcuNTY0NTM3NSwgLTEyMi4zMjU0NzA1XSwKICAgICAgICAgICAgICAgIHt9CiAgICAgICAgICAgICkuYWRkVG8obWFwX2EyZDI3NjI0YWYwODRiOTM4Y2EyNDkwMDY2MDIwNWNkKTsKICAgICAgICAKICAgIAogICAgICAgICAgICB2YXIgaWNvbl8wZDM3ZTc1ZTk1MTI0ZThlYmViMzgwODUzMmU1ZWQyNCA9IEwuQXdlc29tZU1hcmtlcnMuaWNvbigKICAgICAgICAgICAgICAgIHsiZXh0cmFDbGFzc2VzIjogImZhLXJvdGF0ZS0wIiwgImljb24iOiAiYnJpZWZjYXNlIiwgImljb25Db2xvciI6ICJibGFjayIsICJtYXJrZXJDb2xvciI6ICJncmVlbiIsICJwcmVmaXgiOiAiZmEifQogICAgICAgICAgICApOwogICAgICAgICAgICBtYXJrZXJfOTZkOWYwYzYzNDU3NGQ0MWE5MzY4YWFlZGVmYWI5ZWQuc2V0SWNvbihpY29uXzBkMzdlNzVlOTUxMjRlOGViZWIzODA4NTMyZTVlZDI0KTsKICAgICAgICAKICAgIAogICAgICAgICAgICBtYXJrZXJfOTZkOWYwYzYzNDU3NGQ0MWE5MzY4YWFlZGVmYWI5ZWQuYmluZFRvb2x0aXAoCiAgICAgICAgICAgICAgICBgPGRpdj4KICAgICAgICAgICAgICAgICAgICAgU2t5ZGVjawogICAgICAgICAgICAgICAgIDwvZGl2PmAsCiAgICAgICAgICAgICAgICB7InN0aWNreSI6IHRydWV9CiAgICAgICAgICAgICk7CiAgICAgICAgCiAgICAKICAgICAgICAgICAgdmFyIG1hcmtlcl80ZDIwYjhhMzQxMjE0MjhmOGRiNGYyM2JhYjA3YTE2YiA9IEwubWFya2VyKAogICAgICAgICAgICAgICAgWzMyLjA1NTQsIDM0Ljc1OTVdLAogICAgICAgICAgICAgICAge30KICAgICAgICAgICAgKS5hZGRUbyhtYXBfYTJkMjc2MjRhZjA4NGI5MzhjYTI0OTAwNjYwMjA1Y2QpOwogICAgICAgIAogICAgCiAgICAgICAgICAgIHZhciBpY29uX2UzNDE2ZGZmMzc4YTQ3YmY5MWI3ZWQxMDIzOTZkODIwID0gTC5Bd2Vzb21lTWFya2Vycy5pY29uKAogICAgICAgICAgICAgICAgeyJleHRyYUNsYXNzZXMiOiAiZmEtcm90YXRlLTAiLCAiaWNvbiI6ICJicmllZmNhc2UiLCAiaWNvbkNvbG9yIjogImJsYWNrIiwgIm1hcmtlckNvbG9yIjogImdyZWVuIiwgInByZWZpeCI6ICJmYSJ9CiAgICAgICAgICAgICk7CiAgICAgICAgICAgIG1hcmtlcl80ZDIwYjhhMzQxMjE0MjhmOGRiNGYyM2JhYjA3YTE2Yi5zZXRJY29uKGljb25fZTM0MTZkZmYzNzhhNDdiZjkxYjdlZDEwMjM5NmQ4MjApOwogICAgICAgIAogICAgCiAgICAgICAgICAgIG1hcmtlcl80ZDIwYjhhMzQxMjE0MjhmOGRiNGYyM2JhYjA3YTE2Yi5iaW5kVG9vbHRpcCgKICAgICAgICAgICAgICAgIGA8ZGl2PgogICAgICAgICAgICAgICAgICAgICBNb2JsaWNhCiAgICAgICAgICAgICAgICAgPC9kaXY+YCwKICAgICAgICAgICAgICAgIHsic3RpY2t5IjogdHJ1ZX0KICAgICAgICAgICAgKTsKICAgICAgICAKICAgIAogICAgICAgICAgICB2YXIgbWFya2VyXzg5MDU3ZmFjM2JjYjRhYjY5MGQzNjI4NWIwMjljOTQ0ID0gTC5tYXJrZXIoCiAgICAgICAgICAgICAgICBbMjEuMzAzMDQ5LCAtMTU3Ljc4OTA3XSwKICAgICAgICAgICAgICAgIHt9CiAgICAgICAgICAgICkuYWRkVG8obWFwX2EyZDI3NjI0YWYwODRiOTM4Y2EyNDkwMDY2MDIwNWNkKTsKICAgICAgICAKICAgIAogICAgICAgICAgICB2YXIgaWNvbl83NTE3YjI5NTMzYTM0MDZjOGFiYzk1ZTkxZDkxZmI4OCA9IEwuQXdlc29tZU1hcmtlcnMuaWNvbigKICAgICAgICAgICAgICAgIHsiZXh0cmFDbGFzc2VzIjogImZhLXJvdGF0ZS0wIiwgImljb24iOiAiYnJpZWZjYXNlIiwgImljb25Db2xvciI6ICJibGFjayIsICJtYXJrZXJDb2xvciI6ICJncmVlbiIsICJwcmVmaXgiOiAiZmEifQogICAgICAgICAgICApOwogICAgICAgICAgICBtYXJrZXJfODkwNTdmYWMzYmNiNGFiNjkwZDM2Mjg1YjAyOWM5NDQuc2V0SWNvbihpY29uXzc1MTdiMjk1MzNhMzQwNmM4YWJjOTVlOTFkOTFmYjg4KTsKICAgICAgICAKICAgIAogICAgICAgICAgICBtYXJrZXJfODkwNTdmYWMzYmNiNGFiNjkwZDM2Mjg1YjAyOWM5NDQuYmluZFRvb2x0aXAoCiAgICAgICAgICAgICAgICBgPGRpdj4KICAgICAgICAgICAgICAgICAgICAgdHJhdmVsbW9iCiAgICAgICAgICAgICAgICAgPC9kaXY+YCwKICAgICAgICAgICAgICAgIHsic3RpY2t5IjogdHJ1ZX0KICAgICAgICAgICAgKTsKICAgICAgICAKICAgIAogICAgICAgICAgICB2YXIgbWFya2VyXzVhODBmZTFhODg3MTQ1MjdhMTNiZDU3OTFiMDM0OGY0ID0gTC5tYXJrZXIoCiAgICAgICAgICAgICAgICBbMjEuMzAzMDQ5LCAtMTU3Ljc4OTA3XSwKICAgICAgICAgICAgICAgIHt9CiAgICAgICAgICAgICkuYWRkVG8obWFwX2EyZDI3NjI0YWYwODRiOTM4Y2EyNDkwMDY2MDIwNWNkKTsKICAgICAgICAKICAgIAogICAgICAgICAgICB2YXIgaWNvbl82ZDJhODM0Zjk1MmU0OTNlOTFkMzg0MGI3MWU0OWVmYSA9IEwuQXdlc29tZU1hcmtlcnMuaWNvbigKICAgICAgICAgICAgICAgIHsiZXh0cmFDbGFzc2VzIjogImZhLXJvdGF0ZS0wIiwgImljb24iOiAiYnJpZWZjYXNlIiwgImljb25Db2xvciI6ICJibGFjayIsICJtYXJrZXJDb2xvciI6ICJncmVlbiIsICJwcmVmaXgiOiAiZmEifQogICAgICAgICAgICApOwogICAgICAgICAgICBtYXJrZXJfNWE4MGZlMWE4ODcxNDUyN2ExM2JkNTc5MWIwMzQ4ZjQuc2V0SWNvbihpY29uXzZkMmE4MzRmOTUyZTQ5M2U5MWQzODQwYjcxZTQ5ZWZhKTsKICAgICAgICAKICAgIAogICAgICAgICAgICBtYXJrZXJfNWE4MGZlMWE4ODcxNDUyN2ExM2JkNTc5MWIwMzQ4ZjQuYmluZFRvb2x0aXAoCiAgICAgICAgICAgICAgICBgPGRpdj4KICAgICAgICAgICAgICAgICAgICAgdHJhdmVsbW9iCiAgICAgICAgICAgICAgICAgPC9kaXY+YCwKICAgICAgICAgICAgICAgIHsic3RpY2t5IjogdHJ1ZX0KICAgICAgICAgICAgKTsKICAgICAgICAKICAgIAogICAgICAgICAgICB2YXIgbWFya2VyXzViZjI4MTM3ZWExNTQ1ZjM5MDVmN2YwZTA5MDhiYTRlID0gTC5tYXJrZXIoCiAgICAgICAgICAgICAgICBbMzcuMjcwNTE4LCAtMTIxLjk1NTg3OV0sCiAgICAgICAgICAgICAgICB7fQogICAgICAgICAgICApLmFkZFRvKG1hcF9hMmQyNzYyNGFmMDg0YjkzOGNhMjQ5MDA2NjAyMDVjZCk7CiAgICAgICAgCiAgICAKICAgICAgICAgICAgdmFyIGljb25fNDBmNjRiZDk5NmI1NDEyMWFkN2Q2ZTM2MmM0MDg5NjEgPSBMLkF3ZXNvbWVNYXJrZXJzLmljb24oCiAgICAgICAgICAgICAgICB7ImV4dHJhQ2xhc3NlcyI6ICJmYS1yb3RhdGUtMCIsICJpY29uIjogImJyaWVmY2FzZSIsICJpY29uQ29sb3IiOiAiYmxhY2siLCAibWFya2VyQ29sb3IiOiAiZ3JlZW4iLCAicHJlZml4IjogImZhIn0KICAgICAgICAgICAgKTsKICAgICAgICAgICAgbWFya2VyXzViZjI4MTM3ZWExNTQ1ZjM5MDVmN2YwZTA5MDhiYTRlLnNldEljb24oaWNvbl80MGY2NGJkOTk2YjU0MTIxYWQ3ZDZlMzYyYzQwODk2MSk7CiAgICAgICAgCiAgICAKICAgICAgICAgICAgbWFya2VyXzViZjI4MTM3ZWExNTQ1ZjM5MDVmN2YwZTA5MDhiYTRlLmJpbmRUb29sdGlwKAogICAgICAgICAgICAgICAgYDxkaXY+CiAgICAgICAgICAgICAgICAgICAgIFZpc3VhbE9uCiAgICAgICAgICAgICAgICAgPC9kaXY+YCwKICAgICAgICAgICAgICAgIHsic3RpY2t5IjogdHJ1ZX0KICAgICAgICAgICAgKTsKICAgICAgICAKICAgIAogICAgICAgICAgICB2YXIgbWFya2VyX2I2M2U5YzM3YmM5ZjRkZDM4NjBjZDA0NjhmN2I5NjMxID0gTC5tYXJrZXIoCiAgICAgICAgICAgICAgICBbMzcuNjY1NjQ3NiwgLTEyMi4zODQzNDg5XSwKICAgICAgICAgICAgICAgIHt9CiAgICAgICAgICAgICkuYWRkVG8obWFwX2EyZDI3NjI0YWYwODRiOTM4Y2EyNDkwMDY2MDIwNWNkKTsKICAgICAgICAKICAgIAogICAgICAgICAgICB2YXIgaWNvbl82ZDVhYmJlZTBlNDk0YTk1YmZiYmQxMmJmNThjODY4NiA9IEwuQXdlc29tZU1hcmtlcnMuaWNvbigKICAgICAgICAgICAgICAgIHsiZXh0cmFDbGFzc2VzIjogImZhLXJvdGF0ZS0wIiwgImljb24iOiAiYnJpZWZjYXNlIiwgImljb25Db2xvciI6ICJibGFjayIsICJtYXJrZXJDb2xvciI6ICJncmVlbiIsICJwcmVmaXgiOiAiZmEifQogICAgICAgICAgICApOwogICAgICAgICAgICBtYXJrZXJfYjYzZTljMzdiYzlmNGRkMzg2MGNkMDQ2OGY3Yjk2MzEuc2V0SWNvbihpY29uXzZkNWFiYmVlMGU0OTRhOTViZmJiZDEyYmY1OGM4Njg2KTsKICAgICAgICAKICAgIAogICAgICAgICAgICBtYXJrZXJfYjYzZTljMzdiYzlmNGRkMzg2MGNkMDQ2OGY3Yjk2MzEuYmluZFRvb2x0aXAoCiAgICAgICAgICAgICAgICBgPGRpdj4KICAgICAgICAgICAgICAgICAgICAgVmlzdGFHZW4gVGhlcmFwZXV0aWNzCiAgICAgICAgICAgICAgICAgPC9kaXY+YCwKICAgICAgICAgICAgICAgIHsic3RpY2t5IjogdHJ1ZX0KICAgICAgICAgICAgKTsKICAgICAgICAKPC9zY3JpcHQ+ onload=\"this.contentDocument.open();this.contentDocument.write(atob(this.getAttribute('data-html')));this.contentDocument.close();\" allowfullscreen webkitallowfullscreen mozallowfullscreen></iframe></div></div>"
      ],
      "text/plain": [
       "<folium.folium.Map at 0x1202123d0>"
      ]
     },
     "execution_count": 52,
     "metadata": {},
     "output_type": "execute_result"
    }
   ],
   "source": [
    "#Construimos un mapa inicial para ver los diferentes lugares que cumplirían con una de las características que estamos valorando. \n",
    "map_startups"
   ]
  },
  {
   "cell_type": "code",
   "execution_count": 53,
   "metadata": {},
   "outputs": [
    {
     "data": {
      "text/html": [
       "<div style=\"width:100%;\"><div style=\"position:relative;width:100%;height:0;padding-bottom:60%;\"><span style=\"color:#565656\">Make this Notebook Trusted to load map: File -> Trust Notebook</span><iframe src=\"about:blank\" style=\"position:absolute;width:100%;height:100%;left:0;top:0;border:none !important;\" data-html=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 onload=\"this.contentDocument.open();this.contentDocument.write(atob(this.getAttribute('data-html')));this.contentDocument.close();\" allowfullscreen webkitallowfullscreen mozallowfullscreen></iframe></div></div>"
      ],
      "text/plain": [
       "<folium.folium.Map at 0x120349d60>"
      ]
     },
     "execution_count": 53,
     "metadata": {},
     "output_type": "execute_result"
    }
   ],
   "source": [
    "heat_map_startups = Map(location=[40.757929,-73.985506],zoom_start=15)\n",
    "HeatMap(data = dfa[[\"latitudes\", \"longitudes\"]], radius = 15).add_to(heat_map_startups)\n",
    "heat_map_startups"
   ]
  },
  {
   "cell_type": "code",
   "execution_count": null,
   "metadata": {},
   "outputs": [],
   "source": []
  },
  {
   "cell_type": "code",
   "execution_count": null,
   "metadata": {},
   "outputs": [],
   "source": []
  }
 ],
 "metadata": {
  "kernelspec": {
   "display_name": "Python 3",
   "language": "python",
   "name": "python3"
  },
  "language_info": {
   "codemirror_mode": {
    "name": "ipython",
    "version": 3
   },
   "file_extension": ".py",
   "mimetype": "text/x-python",
   "name": "python",
   "nbconvert_exporter": "python",
   "pygments_lexer": "ipython3",
   "version": "3.8.5"
  }
 },
 "nbformat": 4,
 "nbformat_minor": 4
}
